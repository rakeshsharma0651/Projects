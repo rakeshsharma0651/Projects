{
 "cells": [
  {
   "cell_type": "code",
   "execution_count": 130,
   "metadata": {},
   "outputs": [
    {
     "name": "stdout",
     "output_type": "stream",
     "text": [
      "Kindly enter input No. for position to be checked:19\n",
      "Given No. not present in the binary tree.\n"
     ]
    }
   ],
   "source": [
    "class Node():\n",
    "    def __init__(self,data):\n",
    "        self.data = data\n",
    "        self.left = None\n",
    "        self.right = None\n",
    "\n",
    "def depth(node,data,p=1):\n",
    "    if node == None:\n",
    "        return 0\n",
    "    if node.data == data:\n",
    "        return p\n",
    "    p1 = depth(node.left,data,p+1)\n",
    "    if p1!=0:\n",
    "        return p1\n",
    "    p1 = depth(node.right,data,p+1)\n",
    "    return p1\n",
    "\n",
    "if __name__ == '__main__': \n",
    "    a = Node(3)\n",
    "    a.left = Node(2)\n",
    "    a.right = Node(5)\n",
    "    a.left.left = Node(1)\n",
    "    a.left.right = Node(4)\n",
    "    \n",
    "    number_in = int(input(\"Kindly enter input No. for position to be checked:\"))\n",
    "    reslt = depth(a,number_in)\n",
    "    \n",
    "    if reslt != 0:\n",
    "        print(number_in, \" is present at Level: \",reslt)\n",
    "    else:\n",
    "        print(\"Given No. not present in the binary tree.\")"
   ]
  }
 ],
 "metadata": {
  "kernelspec": {
   "display_name": "Python 3",
   "language": "python",
   "name": "python3"
  },
  "language_info": {
   "codemirror_mode": {
    "name": "ipython",
    "version": 3
   },
   "file_extension": ".py",
   "mimetype": "text/x-python",
   "name": "python",
   "nbconvert_exporter": "python",
   "pygments_lexer": "ipython3",
   "version": "3.7.3"
  }
 },
 "nbformat": 4,
 "nbformat_minor": 2
}
