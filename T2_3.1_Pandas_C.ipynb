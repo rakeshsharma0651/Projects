{
 "cells": [
  {
   "cell_type": "code",
   "execution_count": 6,
   "metadata": {},
   "outputs": [],
   "source": [
    "import numpy as np\n",
    "import pandas as pd\n",
    "import matplotlib.pyplot as plt\n",
    "%matplotlib inline\n",
    "#qt to show outside jupyter"
   ]
  },
  {
   "cell_type": "code",
   "execution_count": 3,
   "metadata": {},
   "outputs": [],
   "source": [
    "data = pd.read_csv('YESBANK.NS.csv')"
   ]
  },
  {
   "cell_type": "code",
   "execution_count": 4,
   "metadata": {},
   "outputs": [
    {
     "data": {
      "text/html": [
       "<div>\n",
       "<style scoped>\n",
       "    .dataframe tbody tr th:only-of-type {\n",
       "        vertical-align: middle;\n",
       "    }\n",
       "\n",
       "    .dataframe tbody tr th {\n",
       "        vertical-align: top;\n",
       "    }\n",
       "\n",
       "    .dataframe thead th {\n",
       "        text-align: right;\n",
       "    }\n",
       "</style>\n",
       "<table border=\"1\" class=\"dataframe\">\n",
       "  <thead>\n",
       "    <tr style=\"text-align: right;\">\n",
       "      <th></th>\n",
       "      <th>Date</th>\n",
       "      <th>Open</th>\n",
       "      <th>High</th>\n",
       "      <th>Low</th>\n",
       "      <th>Close</th>\n",
       "      <th>Adj Close</th>\n",
       "      <th>Volume</th>\n",
       "    </tr>\n",
       "  </thead>\n",
       "  <tbody>\n",
       "    <tr>\n",
       "      <th>0</th>\n",
       "      <td>2018-11-19</td>\n",
       "      <td>198.100006</td>\n",
       "      <td>205.949997</td>\n",
       "      <td>194.350006</td>\n",
       "      <td>204.800003</td>\n",
       "      <td>199.325058</td>\n",
       "      <td>64329717</td>\n",
       "    </tr>\n",
       "    <tr>\n",
       "      <th>1</th>\n",
       "      <td>2018-11-20</td>\n",
       "      <td>198.000000</td>\n",
       "      <td>199.750000</td>\n",
       "      <td>191.000000</td>\n",
       "      <td>192.100006</td>\n",
       "      <td>186.964584</td>\n",
       "      <td>77354754</td>\n",
       "    </tr>\n",
       "    <tr>\n",
       "      <th>2</th>\n",
       "      <td>2018-11-21</td>\n",
       "      <td>196.100006</td>\n",
       "      <td>200.800003</td>\n",
       "      <td>194.600006</td>\n",
       "      <td>198.149994</td>\n",
       "      <td>192.852844</td>\n",
       "      <td>47627190</td>\n",
       "    </tr>\n",
       "    <tr>\n",
       "      <th>3</th>\n",
       "      <td>2018-11-22</td>\n",
       "      <td>200.000000</td>\n",
       "      <td>203.850006</td>\n",
       "      <td>194.649994</td>\n",
       "      <td>195.550003</td>\n",
       "      <td>190.322342</td>\n",
       "      <td>44350629</td>\n",
       "    </tr>\n",
       "    <tr>\n",
       "      <th>4</th>\n",
       "      <td>2018-11-26</td>\n",
       "      <td>189.000000</td>\n",
       "      <td>191.949997</td>\n",
       "      <td>182.199997</td>\n",
       "      <td>187.899994</td>\n",
       "      <td>182.876846</td>\n",
       "      <td>60418383</td>\n",
       "    </tr>\n",
       "  </tbody>\n",
       "</table>\n",
       "</div>"
      ],
      "text/plain": [
       "         Date        Open        High         Low       Close   Adj Close  \\\n",
       "0  2018-11-19  198.100006  205.949997  194.350006  204.800003  199.325058   \n",
       "1  2018-11-20  198.000000  199.750000  191.000000  192.100006  186.964584   \n",
       "2  2018-11-21  196.100006  200.800003  194.600006  198.149994  192.852844   \n",
       "3  2018-11-22  200.000000  203.850006  194.649994  195.550003  190.322342   \n",
       "4  2018-11-26  189.000000  191.949997  182.199997  187.899994  182.876846   \n",
       "\n",
       "     Volume  \n",
       "0  64329717  \n",
       "1  77354754  \n",
       "2  47627190  \n",
       "3  44350629  \n",
       "4  60418383  "
      ]
     },
     "execution_count": 4,
     "metadata": {},
     "output_type": "execute_result"
    }
   ],
   "source": [
    "data.head()"
   ]
  },
  {
   "cell_type": "code",
   "execution_count": 7,
   "metadata": {},
   "outputs": [],
   "source": [
    "data['average'] = (data['High'] + data['Low'])/2"
   ]
  },
  {
   "cell_type": "code",
   "execution_count": 8,
   "metadata": {},
   "outputs": [
    {
     "data": {
      "text/html": [
       "<div>\n",
       "<style scoped>\n",
       "    .dataframe tbody tr th:only-of-type {\n",
       "        vertical-align: middle;\n",
       "    }\n",
       "\n",
       "    .dataframe tbody tr th {\n",
       "        vertical-align: top;\n",
       "    }\n",
       "\n",
       "    .dataframe thead th {\n",
       "        text-align: right;\n",
       "    }\n",
       "</style>\n",
       "<table border=\"1\" class=\"dataframe\">\n",
       "  <thead>\n",
       "    <tr style=\"text-align: right;\">\n",
       "      <th></th>\n",
       "      <th>Date</th>\n",
       "      <th>Open</th>\n",
       "      <th>High</th>\n",
       "      <th>Low</th>\n",
       "      <th>Close</th>\n",
       "      <th>Adj Close</th>\n",
       "      <th>Volume</th>\n",
       "      <th>average</th>\n",
       "    </tr>\n",
       "  </thead>\n",
       "  <tbody>\n",
       "    <tr>\n",
       "      <th>0</th>\n",
       "      <td>2018-11-19</td>\n",
       "      <td>198.100006</td>\n",
       "      <td>205.949997</td>\n",
       "      <td>194.350006</td>\n",
       "      <td>204.800003</td>\n",
       "      <td>199.325058</td>\n",
       "      <td>64329717</td>\n",
       "      <td>200.150002</td>\n",
       "    </tr>\n",
       "    <tr>\n",
       "      <th>1</th>\n",
       "      <td>2018-11-20</td>\n",
       "      <td>198.000000</td>\n",
       "      <td>199.750000</td>\n",
       "      <td>191.000000</td>\n",
       "      <td>192.100006</td>\n",
       "      <td>186.964584</td>\n",
       "      <td>77354754</td>\n",
       "      <td>195.375000</td>\n",
       "    </tr>\n",
       "    <tr>\n",
       "      <th>2</th>\n",
       "      <td>2018-11-21</td>\n",
       "      <td>196.100006</td>\n",
       "      <td>200.800003</td>\n",
       "      <td>194.600006</td>\n",
       "      <td>198.149994</td>\n",
       "      <td>192.852844</td>\n",
       "      <td>47627190</td>\n",
       "      <td>197.700005</td>\n",
       "    </tr>\n",
       "    <tr>\n",
       "      <th>3</th>\n",
       "      <td>2018-11-22</td>\n",
       "      <td>200.000000</td>\n",
       "      <td>203.850006</td>\n",
       "      <td>194.649994</td>\n",
       "      <td>195.550003</td>\n",
       "      <td>190.322342</td>\n",
       "      <td>44350629</td>\n",
       "      <td>199.250000</td>\n",
       "    </tr>\n",
       "    <tr>\n",
       "      <th>4</th>\n",
       "      <td>2018-11-26</td>\n",
       "      <td>189.000000</td>\n",
       "      <td>191.949997</td>\n",
       "      <td>182.199997</td>\n",
       "      <td>187.899994</td>\n",
       "      <td>182.876846</td>\n",
       "      <td>60418383</td>\n",
       "      <td>187.074997</td>\n",
       "    </tr>\n",
       "  </tbody>\n",
       "</table>\n",
       "</div>"
      ],
      "text/plain": [
       "         Date        Open        High         Low       Close   Adj Close  \\\n",
       "0  2018-11-19  198.100006  205.949997  194.350006  204.800003  199.325058   \n",
       "1  2018-11-20  198.000000  199.750000  191.000000  192.100006  186.964584   \n",
       "2  2018-11-21  196.100006  200.800003  194.600006  198.149994  192.852844   \n",
       "3  2018-11-22  200.000000  203.850006  194.649994  195.550003  190.322342   \n",
       "4  2018-11-26  189.000000  191.949997  182.199997  187.899994  182.876846   \n",
       "\n",
       "     Volume     average  \n",
       "0  64329717  200.150002  \n",
       "1  77354754  195.375000  \n",
       "2  47627190  197.700005  \n",
       "3  44350629  199.250000  \n",
       "4  60418383  187.074997  "
      ]
     },
     "execution_count": 8,
     "metadata": {},
     "output_type": "execute_result"
    }
   ],
   "source": [
    "data.head()"
   ]
  },
  {
   "cell_type": "code",
   "execution_count": 9,
   "metadata": {},
   "outputs": [
    {
     "data": {
      "text/html": [
       "<div>\n",
       "<style scoped>\n",
       "    .dataframe tbody tr th:only-of-type {\n",
       "        vertical-align: middle;\n",
       "    }\n",
       "\n",
       "    .dataframe tbody tr th {\n",
       "        vertical-align: top;\n",
       "    }\n",
       "\n",
       "    .dataframe thead th {\n",
       "        text-align: right;\n",
       "    }\n",
       "</style>\n",
       "<table border=\"1\" class=\"dataframe\">\n",
       "  <thead>\n",
       "    <tr style=\"text-align: right;\">\n",
       "      <th></th>\n",
       "      <th>Date</th>\n",
       "      <th>Open</th>\n",
       "      <th>High</th>\n",
       "      <th>Low</th>\n",
       "      <th>Close</th>\n",
       "      <th>Adj Close</th>\n",
       "      <th>Volume</th>\n",
       "      <th>average</th>\n",
       "      <th>Natural Log</th>\n",
       "    </tr>\n",
       "  </thead>\n",
       "  <tbody>\n",
       "    <tr>\n",
       "      <th>0</th>\n",
       "      <td>2018-11-19</td>\n",
       "      <td>198.100006</td>\n",
       "      <td>205.949997</td>\n",
       "      <td>194.350006</td>\n",
       "      <td>204.800003</td>\n",
       "      <td>199.325058</td>\n",
       "      <td>64329717</td>\n",
       "      <td>200.150002</td>\n",
       "      <td>5.299067</td>\n",
       "    </tr>\n",
       "    <tr>\n",
       "      <th>1</th>\n",
       "      <td>2018-11-20</td>\n",
       "      <td>198.000000</td>\n",
       "      <td>199.750000</td>\n",
       "      <td>191.000000</td>\n",
       "      <td>192.100006</td>\n",
       "      <td>186.964584</td>\n",
       "      <td>77354754</td>\n",
       "      <td>195.375000</td>\n",
       "      <td>5.274921</td>\n",
       "    </tr>\n",
       "    <tr>\n",
       "      <th>2</th>\n",
       "      <td>2018-11-21</td>\n",
       "      <td>196.100006</td>\n",
       "      <td>200.800003</td>\n",
       "      <td>194.600006</td>\n",
       "      <td>198.149994</td>\n",
       "      <td>192.852844</td>\n",
       "      <td>47627190</td>\n",
       "      <td>197.700005</td>\n",
       "      <td>5.286751</td>\n",
       "    </tr>\n",
       "    <tr>\n",
       "      <th>3</th>\n",
       "      <td>2018-11-22</td>\n",
       "      <td>200.000000</td>\n",
       "      <td>203.850006</td>\n",
       "      <td>194.649994</td>\n",
       "      <td>195.550003</td>\n",
       "      <td>190.322342</td>\n",
       "      <td>44350629</td>\n",
       "      <td>199.250000</td>\n",
       "      <td>5.294560</td>\n",
       "    </tr>\n",
       "    <tr>\n",
       "      <th>4</th>\n",
       "      <td>2018-11-26</td>\n",
       "      <td>189.000000</td>\n",
       "      <td>191.949997</td>\n",
       "      <td>182.199997</td>\n",
       "      <td>187.899994</td>\n",
       "      <td>182.876846</td>\n",
       "      <td>60418383</td>\n",
       "      <td>187.074997</td>\n",
       "      <td>5.231510</td>\n",
       "    </tr>\n",
       "  </tbody>\n",
       "</table>\n",
       "</div>"
      ],
      "text/plain": [
       "         Date        Open        High         Low       Close   Adj Close  \\\n",
       "0  2018-11-19  198.100006  205.949997  194.350006  204.800003  199.325058   \n",
       "1  2018-11-20  198.000000  199.750000  191.000000  192.100006  186.964584   \n",
       "2  2018-11-21  196.100006  200.800003  194.600006  198.149994  192.852844   \n",
       "3  2018-11-22  200.000000  203.850006  194.649994  195.550003  190.322342   \n",
       "4  2018-11-26  189.000000  191.949997  182.199997  187.899994  182.876846   \n",
       "\n",
       "     Volume     average  Natural Log  \n",
       "0  64329717  200.150002     5.299067  \n",
       "1  77354754  195.375000     5.274921  \n",
       "2  47627190  197.700005     5.286751  \n",
       "3  44350629  199.250000     5.294560  \n",
       "4  60418383  187.074997     5.231510  "
      ]
     },
     "execution_count": 9,
     "metadata": {},
     "output_type": "execute_result"
    }
   ],
   "source": [
    "data['Natural Log'] = np.log(data['average'])\n",
    "data.head()"
   ]
  },
  {
   "cell_type": "code",
   "execution_count": 10,
   "metadata": {},
   "outputs": [
    {
     "data": {
      "text/html": [
       "<div>\n",
       "<style scoped>\n",
       "    .dataframe tbody tr th:only-of-type {\n",
       "        vertical-align: middle;\n",
       "    }\n",
       "\n",
       "    .dataframe tbody tr th {\n",
       "        vertical-align: top;\n",
       "    }\n",
       "\n",
       "    .dataframe thead th {\n",
       "        text-align: right;\n",
       "    }\n",
       "</style>\n",
       "<table border=\"1\" class=\"dataframe\">\n",
       "  <thead>\n",
       "    <tr style=\"text-align: right;\">\n",
       "      <th></th>\n",
       "      <th>Date</th>\n",
       "      <th>Open</th>\n",
       "      <th>High</th>\n",
       "      <th>Low</th>\n",
       "      <th>Close</th>\n",
       "      <th>Adj Close</th>\n",
       "      <th>Volume</th>\n",
       "      <th>average</th>\n",
       "      <th>Natural Log</th>\n",
       "      <th>Log-10</th>\n",
       "    </tr>\n",
       "  </thead>\n",
       "  <tbody>\n",
       "    <tr>\n",
       "      <th>0</th>\n",
       "      <td>2018-11-19</td>\n",
       "      <td>198.100006</td>\n",
       "      <td>205.949997</td>\n",
       "      <td>194.350006</td>\n",
       "      <td>204.800003</td>\n",
       "      <td>199.325058</td>\n",
       "      <td>64329717</td>\n",
       "      <td>200.150002</td>\n",
       "      <td>5.299067</td>\n",
       "      <td>2.301356</td>\n",
       "    </tr>\n",
       "    <tr>\n",
       "      <th>1</th>\n",
       "      <td>2018-11-20</td>\n",
       "      <td>198.000000</td>\n",
       "      <td>199.750000</td>\n",
       "      <td>191.000000</td>\n",
       "      <td>192.100006</td>\n",
       "      <td>186.964584</td>\n",
       "      <td>77354754</td>\n",
       "      <td>195.375000</td>\n",
       "      <td>5.274921</td>\n",
       "      <td>2.290869</td>\n",
       "    </tr>\n",
       "    <tr>\n",
       "      <th>2</th>\n",
       "      <td>2018-11-21</td>\n",
       "      <td>196.100006</td>\n",
       "      <td>200.800003</td>\n",
       "      <td>194.600006</td>\n",
       "      <td>198.149994</td>\n",
       "      <td>192.852844</td>\n",
       "      <td>47627190</td>\n",
       "      <td>197.700005</td>\n",
       "      <td>5.286751</td>\n",
       "      <td>2.296007</td>\n",
       "    </tr>\n",
       "    <tr>\n",
       "      <th>3</th>\n",
       "      <td>2018-11-22</td>\n",
       "      <td>200.000000</td>\n",
       "      <td>203.850006</td>\n",
       "      <td>194.649994</td>\n",
       "      <td>195.550003</td>\n",
       "      <td>190.322342</td>\n",
       "      <td>44350629</td>\n",
       "      <td>199.250000</td>\n",
       "      <td>5.294560</td>\n",
       "      <td>2.299398</td>\n",
       "    </tr>\n",
       "    <tr>\n",
       "      <th>4</th>\n",
       "      <td>2018-11-26</td>\n",
       "      <td>189.000000</td>\n",
       "      <td>191.949997</td>\n",
       "      <td>182.199997</td>\n",
       "      <td>187.899994</td>\n",
       "      <td>182.876846</td>\n",
       "      <td>60418383</td>\n",
       "      <td>187.074997</td>\n",
       "      <td>5.231510</td>\n",
       "      <td>2.272016</td>\n",
       "    </tr>\n",
       "  </tbody>\n",
       "</table>\n",
       "</div>"
      ],
      "text/plain": [
       "         Date        Open        High         Low       Close   Adj Close  \\\n",
       "0  2018-11-19  198.100006  205.949997  194.350006  204.800003  199.325058   \n",
       "1  2018-11-20  198.000000  199.750000  191.000000  192.100006  186.964584   \n",
       "2  2018-11-21  196.100006  200.800003  194.600006  198.149994  192.852844   \n",
       "3  2018-11-22  200.000000  203.850006  194.649994  195.550003  190.322342   \n",
       "4  2018-11-26  189.000000  191.949997  182.199997  187.899994  182.876846   \n",
       "\n",
       "     Volume     average  Natural Log    Log-10  \n",
       "0  64329717  200.150002     5.299067  2.301356  \n",
       "1  77354754  195.375000     5.274921  2.290869  \n",
       "2  47627190  197.700005     5.286751  2.296007  \n",
       "3  44350629  199.250000     5.294560  2.299398  \n",
       "4  60418383  187.074997     5.231510  2.272016  "
      ]
     },
     "execution_count": 10,
     "metadata": {},
     "output_type": "execute_result"
    }
   ],
   "source": [
    "data['Log-10'] = np.log10(data['average'])\n",
    "data.head()"
   ]
  },
  {
   "cell_type": "code",
   "execution_count": 47,
   "metadata": {},
   "outputs": [
    {
     "name": "stderr",
     "output_type": "stream",
     "text": [
      "C:\\ProgramData\\Anaconda3\\lib\\site-packages\\ipykernel_launcher.py:1: SettingWithCopyWarning: \n",
      "A value is trying to be set on a copy of a slice from a DataFrame\n",
      "\n",
      "See the caveats in the documentation: http://pandas.pydata.org/pandas-docs/stable/indexing.html#indexing-view-versus-copy\n",
      "  \"\"\"Entry point for launching an IPython kernel.\n"
     ]
    }
   ],
   "source": [
    "data['Natural Log P1'][0:-1] = data['Natural Log'][1:]\n",
    "#data['Natural Log P1'] = data['Natural Log'][1:]\n",
    "#data.reset_index(drop=True)"
   ]
  },
  {
   "cell_type": "code",
   "execution_count": 48,
   "metadata": {},
   "outputs": [],
   "source": [
    "data['return'] = data['Natural Log'] / data['Natural Log P1']"
   ]
  },
  {
   "cell_type": "code",
   "execution_count": 11,
   "metadata": {},
   "outputs": [
    {
     "data": {
      "text/html": [
       "<div>\n",
       "<style scoped>\n",
       "    .dataframe tbody tr th:only-of-type {\n",
       "        vertical-align: middle;\n",
       "    }\n",
       "\n",
       "    .dataframe tbody tr th {\n",
       "        vertical-align: top;\n",
       "    }\n",
       "\n",
       "    .dataframe thead th {\n",
       "        text-align: right;\n",
       "    }\n",
       "</style>\n",
       "<table border=\"1\" class=\"dataframe\">\n",
       "  <thead>\n",
       "    <tr style=\"text-align: right;\">\n",
       "      <th></th>\n",
       "      <th>Date</th>\n",
       "      <th>Open</th>\n",
       "      <th>High</th>\n",
       "      <th>Low</th>\n",
       "      <th>Close</th>\n",
       "      <th>Adj Close</th>\n",
       "      <th>Volume</th>\n",
       "      <th>average</th>\n",
       "      <th>Natural Log</th>\n",
       "      <th>Log-10</th>\n",
       "    </tr>\n",
       "  </thead>\n",
       "  <tbody>\n",
       "    <tr>\n",
       "      <th>0</th>\n",
       "      <td>2018-11-19</td>\n",
       "      <td>198.100006</td>\n",
       "      <td>205.949997</td>\n",
       "      <td>194.350006</td>\n",
       "      <td>204.800003</td>\n",
       "      <td>199.325058</td>\n",
       "      <td>64329717</td>\n",
       "      <td>200.150002</td>\n",
       "      <td>5.299067</td>\n",
       "      <td>2.301356</td>\n",
       "    </tr>\n",
       "    <tr>\n",
       "      <th>1</th>\n",
       "      <td>2018-11-20</td>\n",
       "      <td>198.000000</td>\n",
       "      <td>199.750000</td>\n",
       "      <td>191.000000</td>\n",
       "      <td>192.100006</td>\n",
       "      <td>186.964584</td>\n",
       "      <td>77354754</td>\n",
       "      <td>195.375000</td>\n",
       "      <td>5.274921</td>\n",
       "      <td>2.290869</td>\n",
       "    </tr>\n",
       "    <tr>\n",
       "      <th>2</th>\n",
       "      <td>2018-11-21</td>\n",
       "      <td>196.100006</td>\n",
       "      <td>200.800003</td>\n",
       "      <td>194.600006</td>\n",
       "      <td>198.149994</td>\n",
       "      <td>192.852844</td>\n",
       "      <td>47627190</td>\n",
       "      <td>197.700005</td>\n",
       "      <td>5.286751</td>\n",
       "      <td>2.296007</td>\n",
       "    </tr>\n",
       "    <tr>\n",
       "      <th>3</th>\n",
       "      <td>2018-11-22</td>\n",
       "      <td>200.000000</td>\n",
       "      <td>203.850006</td>\n",
       "      <td>194.649994</td>\n",
       "      <td>195.550003</td>\n",
       "      <td>190.322342</td>\n",
       "      <td>44350629</td>\n",
       "      <td>199.250000</td>\n",
       "      <td>5.294560</td>\n",
       "      <td>2.299398</td>\n",
       "    </tr>\n",
       "    <tr>\n",
       "      <th>4</th>\n",
       "      <td>2018-11-26</td>\n",
       "      <td>189.000000</td>\n",
       "      <td>191.949997</td>\n",
       "      <td>182.199997</td>\n",
       "      <td>187.899994</td>\n",
       "      <td>182.876846</td>\n",
       "      <td>60418383</td>\n",
       "      <td>187.074997</td>\n",
       "      <td>5.231510</td>\n",
       "      <td>2.272016</td>\n",
       "    </tr>\n",
       "  </tbody>\n",
       "</table>\n",
       "</div>"
      ],
      "text/plain": [
       "         Date        Open        High         Low       Close   Adj Close  \\\n",
       "0  2018-11-19  198.100006  205.949997  194.350006  204.800003  199.325058   \n",
       "1  2018-11-20  198.000000  199.750000  191.000000  192.100006  186.964584   \n",
       "2  2018-11-21  196.100006  200.800003  194.600006  198.149994  192.852844   \n",
       "3  2018-11-22  200.000000  203.850006  194.649994  195.550003  190.322342   \n",
       "4  2018-11-26  189.000000  191.949997  182.199997  187.899994  182.876846   \n",
       "\n",
       "     Volume     average  Natural Log    Log-10  \n",
       "0  64329717  200.150002     5.299067  2.301356  \n",
       "1  77354754  195.375000     5.274921  2.290869  \n",
       "2  47627190  197.700005     5.286751  2.296007  \n",
       "3  44350629  199.250000     5.294560  2.299398  \n",
       "4  60418383  187.074997     5.231510  2.272016  "
      ]
     },
     "execution_count": 11,
     "metadata": {},
     "output_type": "execute_result"
    }
   ],
   "source": [
    "data.head()"
   ]
  },
  {
   "cell_type": "markdown",
   "metadata": {},
   "source": [
    "## Concatenation and Merging of Data Frames"
   ]
  },
  {
   "cell_type": "code",
   "execution_count": 62,
   "metadata": {},
   "outputs": [],
   "source": [
    "x = pd.DataFrame({'c1':[1,2,3,4,5],'c2':[6,7,8,9,10]})\n",
    "d = pd.DataFrame({'c1':[11,12,13,14],'c2':[16,17,18,19]})"
   ]
  },
  {
   "cell_type": "code",
   "execution_count": 63,
   "metadata": {},
   "outputs": [
    {
     "data": {
      "text/html": [
       "<div>\n",
       "<style scoped>\n",
       "    .dataframe tbody tr th:only-of-type {\n",
       "        vertical-align: middle;\n",
       "    }\n",
       "\n",
       "    .dataframe tbody tr th {\n",
       "        vertical-align: top;\n",
       "    }\n",
       "\n",
       "    .dataframe thead th {\n",
       "        text-align: right;\n",
       "    }\n",
       "</style>\n",
       "<table border=\"1\" class=\"dataframe\">\n",
       "  <thead>\n",
       "    <tr style=\"text-align: right;\">\n",
       "      <th></th>\n",
       "      <th>c1</th>\n",
       "      <th>c2</th>\n",
       "      <th>c1</th>\n",
       "      <th>c2</th>\n",
       "    </tr>\n",
       "  </thead>\n",
       "  <tbody>\n",
       "    <tr>\n",
       "      <th>0</th>\n",
       "      <td>1</td>\n",
       "      <td>6</td>\n",
       "      <td>11.0</td>\n",
       "      <td>16.0</td>\n",
       "    </tr>\n",
       "    <tr>\n",
       "      <th>1</th>\n",
       "      <td>2</td>\n",
       "      <td>7</td>\n",
       "      <td>12.0</td>\n",
       "      <td>17.0</td>\n",
       "    </tr>\n",
       "    <tr>\n",
       "      <th>2</th>\n",
       "      <td>3</td>\n",
       "      <td>8</td>\n",
       "      <td>13.0</td>\n",
       "      <td>18.0</td>\n",
       "    </tr>\n",
       "    <tr>\n",
       "      <th>3</th>\n",
       "      <td>4</td>\n",
       "      <td>9</td>\n",
       "      <td>14.0</td>\n",
       "      <td>19.0</td>\n",
       "    </tr>\n",
       "    <tr>\n",
       "      <th>4</th>\n",
       "      <td>5</td>\n",
       "      <td>10</td>\n",
       "      <td>NaN</td>\n",
       "      <td>NaN</td>\n",
       "    </tr>\n",
       "  </tbody>\n",
       "</table>\n",
       "</div>"
      ],
      "text/plain": [
       "   c1  c2    c1    c2\n",
       "0   1   6  11.0  16.0\n",
       "1   2   7  12.0  17.0\n",
       "2   3   8  13.0  18.0\n",
       "3   4   9  14.0  19.0\n",
       "4   5  10   NaN   NaN"
      ]
     },
     "execution_count": 63,
     "metadata": {},
     "output_type": "execute_result"
    }
   ],
   "source": [
    "pd.concat([x,d],axis=1)"
   ]
  },
  {
   "cell_type": "code",
   "execution_count": 70,
   "metadata": {},
   "outputs": [
    {
     "data": {
      "text/html": [
       "<div>\n",
       "<style scoped>\n",
       "    .dataframe tbody tr th:only-of-type {\n",
       "        vertical-align: middle;\n",
       "    }\n",
       "\n",
       "    .dataframe tbody tr th {\n",
       "        vertical-align: top;\n",
       "    }\n",
       "\n",
       "    .dataframe thead th {\n",
       "        text-align: right;\n",
       "    }\n",
       "</style>\n",
       "<table border=\"1\" class=\"dataframe\">\n",
       "  <thead>\n",
       "    <tr style=\"text-align: right;\">\n",
       "      <th></th>\n",
       "      <th>c1</th>\n",
       "      <th>c2</th>\n",
       "    </tr>\n",
       "  </thead>\n",
       "  <tbody>\n",
       "    <tr>\n",
       "      <th>0</th>\n",
       "      <td>1</td>\n",
       "      <td>6</td>\n",
       "    </tr>\n",
       "    <tr>\n",
       "      <th>1</th>\n",
       "      <td>2</td>\n",
       "      <td>7</td>\n",
       "    </tr>\n",
       "    <tr>\n",
       "      <th>2</th>\n",
       "      <td>3</td>\n",
       "      <td>8</td>\n",
       "    </tr>\n",
       "    <tr>\n",
       "      <th>3</th>\n",
       "      <td>4</td>\n",
       "      <td>9</td>\n",
       "    </tr>\n",
       "    <tr>\n",
       "      <th>4</th>\n",
       "      <td>5</td>\n",
       "      <td>10</td>\n",
       "    </tr>\n",
       "    <tr>\n",
       "      <th>5</th>\n",
       "      <td>11</td>\n",
       "      <td>16</td>\n",
       "    </tr>\n",
       "    <tr>\n",
       "      <th>6</th>\n",
       "      <td>12</td>\n",
       "      <td>17</td>\n",
       "    </tr>\n",
       "    <tr>\n",
       "      <th>7</th>\n",
       "      <td>13</td>\n",
       "      <td>18</td>\n",
       "    </tr>\n",
       "    <tr>\n",
       "      <th>8</th>\n",
       "      <td>14</td>\n",
       "      <td>19</td>\n",
       "    </tr>\n",
       "  </tbody>\n",
       "</table>\n",
       "</div>"
      ],
      "text/plain": [
       "   c1  c2\n",
       "0   1   6\n",
       "1   2   7\n",
       "2   3   8\n",
       "3   4   9\n",
       "4   5  10\n",
       "5  11  16\n",
       "6  12  17\n",
       "7  13  18\n",
       "8  14  19"
      ]
     },
     "execution_count": 70,
     "metadata": {},
     "output_type": "execute_result"
    }
   ],
   "source": [
    "pd.merge(x,d,how='outer')"
   ]
  },
  {
   "cell_type": "code",
   "execution_count": 76,
   "metadata": {},
   "outputs": [],
   "source": [
    "maths = pd.DataFrame({'Roll No.':[1,2,3,4,5],'Maths_Marks':[78,78,80,91,97],'Name':['x','y','z','a','b']})\n",
    "science = pd.DataFrame({'Roll No.':[1,2,3,4,5],'Science_Marks':[80,81,82,83,84],'Name':['x','y','z','a','b']})"
   ]
  },
  {
   "cell_type": "code",
   "execution_count": 77,
   "metadata": {},
   "outputs": [
    {
     "data": {
      "text/html": [
       "<div>\n",
       "<style scoped>\n",
       "    .dataframe tbody tr th:only-of-type {\n",
       "        vertical-align: middle;\n",
       "    }\n",
       "\n",
       "    .dataframe tbody tr th {\n",
       "        vertical-align: top;\n",
       "    }\n",
       "\n",
       "    .dataframe thead th {\n",
       "        text-align: right;\n",
       "    }\n",
       "</style>\n",
       "<table border=\"1\" class=\"dataframe\">\n",
       "  <thead>\n",
       "    <tr style=\"text-align: right;\">\n",
       "      <th></th>\n",
       "      <th>Roll No.</th>\n",
       "      <th>Maths_Marks</th>\n",
       "      <th>Name_x</th>\n",
       "      <th>Science_Marks</th>\n",
       "      <th>Name_y</th>\n",
       "    </tr>\n",
       "  </thead>\n",
       "  <tbody>\n",
       "    <tr>\n",
       "      <th>0</th>\n",
       "      <td>1</td>\n",
       "      <td>78</td>\n",
       "      <td>x</td>\n",
       "      <td>80</td>\n",
       "      <td>x</td>\n",
       "    </tr>\n",
       "    <tr>\n",
       "      <th>1</th>\n",
       "      <td>2</td>\n",
       "      <td>78</td>\n",
       "      <td>y</td>\n",
       "      <td>81</td>\n",
       "      <td>y</td>\n",
       "    </tr>\n",
       "    <tr>\n",
       "      <th>2</th>\n",
       "      <td>3</td>\n",
       "      <td>80</td>\n",
       "      <td>z</td>\n",
       "      <td>82</td>\n",
       "      <td>z</td>\n",
       "    </tr>\n",
       "    <tr>\n",
       "      <th>3</th>\n",
       "      <td>4</td>\n",
       "      <td>91</td>\n",
       "      <td>a</td>\n",
       "      <td>83</td>\n",
       "      <td>a</td>\n",
       "    </tr>\n",
       "    <tr>\n",
       "      <th>4</th>\n",
       "      <td>5</td>\n",
       "      <td>97</td>\n",
       "      <td>b</td>\n",
       "      <td>84</td>\n",
       "      <td>b</td>\n",
       "    </tr>\n",
       "  </tbody>\n",
       "</table>\n",
       "</div>"
      ],
      "text/plain": [
       "   Roll No.  Maths_Marks Name_x  Science_Marks Name_y\n",
       "0         1           78      x             80      x\n",
       "1         2           78      y             81      y\n",
       "2         3           80      z             82      z\n",
       "3         4           91      a             83      a\n",
       "4         5           97      b             84      b"
      ]
     },
     "execution_count": 77,
     "metadata": {},
     "output_type": "execute_result"
    }
   ],
   "source": [
    "pd.merge(maths,science,how='inner',on='Roll No.')"
   ]
  },
  {
   "cell_type": "code",
   "execution_count": 93,
   "metadata": {},
   "outputs": [
    {
     "data": {
      "text/html": [
       "<div>\n",
       "<style scoped>\n",
       "    .dataframe tbody tr th:only-of-type {\n",
       "        vertical-align: middle;\n",
       "    }\n",
       "\n",
       "    .dataframe tbody tr th {\n",
       "        vertical-align: top;\n",
       "    }\n",
       "\n",
       "    .dataframe thead th {\n",
       "        text-align: right;\n",
       "    }\n",
       "</style>\n",
       "<table border=\"1\" class=\"dataframe\">\n",
       "  <thead>\n",
       "    <tr style=\"text-align: right;\">\n",
       "      <th></th>\n",
       "      <th>Science_Marks</th>\n",
       "      <th>Namescience</th>\n",
       "      <th>Maths_Marks</th>\n",
       "      <th>Namemaths</th>\n",
       "    </tr>\n",
       "    <tr>\n",
       "      <th>Roll No.</th>\n",
       "      <th></th>\n",
       "      <th></th>\n",
       "      <th></th>\n",
       "      <th></th>\n",
       "    </tr>\n",
       "  </thead>\n",
       "  <tbody>\n",
       "    <tr>\n",
       "      <th>1</th>\n",
       "      <td>80</td>\n",
       "      <td>x</td>\n",
       "      <td>78</td>\n",
       "      <td>x</td>\n",
       "    </tr>\n",
       "    <tr>\n",
       "      <th>2</th>\n",
       "      <td>81</td>\n",
       "      <td>y</td>\n",
       "      <td>78</td>\n",
       "      <td>y</td>\n",
       "    </tr>\n",
       "    <tr>\n",
       "      <th>3</th>\n",
       "      <td>82</td>\n",
       "      <td>z</td>\n",
       "      <td>80</td>\n",
       "      <td>z</td>\n",
       "    </tr>\n",
       "    <tr>\n",
       "      <th>4</th>\n",
       "      <td>83</td>\n",
       "      <td>a</td>\n",
       "      <td>91</td>\n",
       "      <td>a</td>\n",
       "    </tr>\n",
       "    <tr>\n",
       "      <th>5</th>\n",
       "      <td>84</td>\n",
       "      <td>b</td>\n",
       "      <td>97</td>\n",
       "      <td>b</td>\n",
       "    </tr>\n",
       "  </tbody>\n",
       "</table>\n",
       "</div>"
      ],
      "text/plain": [
       "          Science_Marks Namescience  Maths_Marks Namemaths\n",
       "Roll No.                                                  \n",
       "1                    80           x           78         x\n",
       "2                    81           y           78         y\n",
       "3                    82           z           80         z\n",
       "4                    83           a           91         a\n",
       "5                    84           b           97         b"
      ]
     },
     "execution_count": 93,
     "metadata": {},
     "output_type": "execute_result"
    }
   ],
   "source": [
    "science.set_index('Roll No.').join(maths.set_index('Roll No.'),how='inner',on=\"Roll No.\",lsuffix='science',rsuffix='maths')"
   ]
  },
  {
   "cell_type": "code",
   "execution_count": 90,
   "metadata": {},
   "outputs": [
    {
     "name": "stderr",
     "output_type": "stream",
     "text": [
      "C:\\ProgramData\\Anaconda3\\lib\\site-packages\\pandas\\core\\frame.py:6692: FutureWarning: Sorting because non-concatenation axis is not aligned. A future version\n",
      "of pandas will change to not sort by default.\n",
      "\n",
      "To accept the future behavior, pass 'sort=False'.\n",
      "\n",
      "To retain the current behavior and silence the warning, pass 'sort=True'.\n",
      "\n",
      "  sort=sort)\n"
     ]
    },
    {
     "data": {
      "text/html": [
       "<div>\n",
       "<style scoped>\n",
       "    .dataframe tbody tr th:only-of-type {\n",
       "        vertical-align: middle;\n",
       "    }\n",
       "\n",
       "    .dataframe tbody tr th {\n",
       "        vertical-align: top;\n",
       "    }\n",
       "\n",
       "    .dataframe thead th {\n",
       "        text-align: right;\n",
       "    }\n",
       "</style>\n",
       "<table border=\"1\" class=\"dataframe\">\n",
       "  <thead>\n",
       "    <tr style=\"text-align: right;\">\n",
       "      <th></th>\n",
       "      <th>Maths_Marks</th>\n",
       "      <th>Name</th>\n",
       "      <th>Roll No.</th>\n",
       "      <th>Science_Marks</th>\n",
       "    </tr>\n",
       "  </thead>\n",
       "  <tbody>\n",
       "    <tr>\n",
       "      <th>0</th>\n",
       "      <td>NaN</td>\n",
       "      <td>x</td>\n",
       "      <td>1</td>\n",
       "      <td>80.0</td>\n",
       "    </tr>\n",
       "    <tr>\n",
       "      <th>1</th>\n",
       "      <td>NaN</td>\n",
       "      <td>y</td>\n",
       "      <td>2</td>\n",
       "      <td>81.0</td>\n",
       "    </tr>\n",
       "    <tr>\n",
       "      <th>2</th>\n",
       "      <td>NaN</td>\n",
       "      <td>z</td>\n",
       "      <td>3</td>\n",
       "      <td>82.0</td>\n",
       "    </tr>\n",
       "    <tr>\n",
       "      <th>3</th>\n",
       "      <td>NaN</td>\n",
       "      <td>a</td>\n",
       "      <td>4</td>\n",
       "      <td>83.0</td>\n",
       "    </tr>\n",
       "    <tr>\n",
       "      <th>4</th>\n",
       "      <td>NaN</td>\n",
       "      <td>b</td>\n",
       "      <td>5</td>\n",
       "      <td>84.0</td>\n",
       "    </tr>\n",
       "    <tr>\n",
       "      <th>0</th>\n",
       "      <td>78.0</td>\n",
       "      <td>x</td>\n",
       "      <td>1</td>\n",
       "      <td>NaN</td>\n",
       "    </tr>\n",
       "    <tr>\n",
       "      <th>1</th>\n",
       "      <td>78.0</td>\n",
       "      <td>y</td>\n",
       "      <td>2</td>\n",
       "      <td>NaN</td>\n",
       "    </tr>\n",
       "    <tr>\n",
       "      <th>2</th>\n",
       "      <td>80.0</td>\n",
       "      <td>z</td>\n",
       "      <td>3</td>\n",
       "      <td>NaN</td>\n",
       "    </tr>\n",
       "    <tr>\n",
       "      <th>3</th>\n",
       "      <td>91.0</td>\n",
       "      <td>a</td>\n",
       "      <td>4</td>\n",
       "      <td>NaN</td>\n",
       "    </tr>\n",
       "    <tr>\n",
       "      <th>4</th>\n",
       "      <td>97.0</td>\n",
       "      <td>b</td>\n",
       "      <td>5</td>\n",
       "      <td>NaN</td>\n",
       "    </tr>\n",
       "  </tbody>\n",
       "</table>\n",
       "</div>"
      ],
      "text/plain": [
       "   Maths_Marks Name  Roll No.  Science_Marks\n",
       "0          NaN    x         1           80.0\n",
       "1          NaN    y         2           81.0\n",
       "2          NaN    z         3           82.0\n",
       "3          NaN    a         4           83.0\n",
       "4          NaN    b         5           84.0\n",
       "0         78.0    x         1            NaN\n",
       "1         78.0    y         2            NaN\n",
       "2         80.0    z         3            NaN\n",
       "3         91.0    a         4            NaN\n",
       "4         97.0    b         5            NaN"
      ]
     },
     "execution_count": 90,
     "metadata": {},
     "output_type": "execute_result"
    }
   ],
   "source": [
    "science.append(maths)"
   ]
  },
  {
   "cell_type": "markdown",
   "metadata": {},
   "source": [
    "# Class 3 -- 25th Nov 2019"
   ]
  },
  {
   "cell_type": "code",
   "execution_count": 3,
   "metadata": {},
   "outputs": [
    {
     "name": "stdout",
     "output_type": "stream",
     "text": [
      "bangladesh\n"
     ]
    }
   ],
   "source": [
    "word = 'banana'\n",
    "word1 = 'bangladesh'\n",
    "word2 = 'band'\n",
    "word3 = 'banner'\n",
    "\n",
    "if word1 == 'banana':\n",
    "    print('All Right !! Bananas')\n",
    "elif word1 > 'banana':\n",
    "    print(word1)"
   ]
  },
  {
   "cell_type": "code",
   "execution_count": 11,
   "metadata": {},
   "outputs": [
    {
     "data": {
      "text/plain": [
       "'Hi I Am Rajesh!'"
      ]
     },
     "execution_count": 11,
     "metadata": {},
     "output_type": "execute_result"
    }
   ],
   "source": [
    "'hi i am rajesh!'.title() #title is like proper in excel, It will capatilize very first character"
   ]
  },
  {
   "cell_type": "code",
   "execution_count": 12,
   "metadata": {},
   "outputs": [
    {
     "data": {
      "text/plain": [
       "3"
      ]
     },
     "execution_count": 12,
     "metadata": {},
     "output_type": "execute_result"
    }
   ],
   "source": [
    "#Count character\n",
    "x = 'banana'\n",
    "x.count('a')"
   ]
  },
  {
   "cell_type": "code",
   "execution_count": 15,
   "metadata": {},
   "outputs": [
    {
     "data": {
      "text/plain": [
       "7"
      ]
     },
     "execution_count": 15,
     "metadata": {},
     "output_type": "execute_result"
    }
   ],
   "source": [
    "#Index function to find the location of first occurence\n",
    "y = 'Hi ... MBA IDS'\n",
    "y.index('MBA')"
   ]
  },
  {
   "cell_type": "code",
   "execution_count": 18,
   "metadata": {},
   "outputs": [
    {
     "data": {
      "text/plain": [
       "False"
      ]
     },
     "execution_count": 18,
     "metadata": {},
     "output_type": "execute_result"
    }
   ],
   "source": [
    "#Taking variables\n",
    "z = 'This is MBA IDS'\n",
    "z.startswith('MBA')"
   ]
  },
  {
   "cell_type": "code",
   "execution_count": 19,
   "metadata": {},
   "outputs": [
    {
     "data": {
      "text/plain": [
       "True"
      ]
     },
     "execution_count": 19,
     "metadata": {},
     "output_type": "execute_result"
    }
   ],
   "source": [
    "z.endswith('IDS')"
   ]
  },
  {
   "cell_type": "code",
   "execution_count": 24,
   "metadata": {},
   "outputs": [
    {
     "data": {
      "text/plain": [
       "'Thfa fa MBA IDS'"
      ]
     },
     "execution_count": 24,
     "metadata": {},
     "output_type": "execute_result"
    }
   ],
   "source": [
    "z.replace('is','fa') #its creating a new object.. its not changing the existing string\n",
    "\n",
    "#Original String remains the same"
   ]
  },
  {
   "cell_type": "code",
   "execution_count": 23,
   "metadata": {},
   "outputs": [
    {
     "data": {
      "text/plain": [
       "'This is MBA IDS'"
      ]
     },
     "execution_count": 23,
     "metadata": {},
     "output_type": "execute_result"
    }
   ],
   "source": [
    "z"
   ]
  },
  {
   "cell_type": "code",
   "execution_count": 26,
   "metadata": {},
   "outputs": [
    {
     "data": {
      "text/plain": [
       "'tHIS IS mba ids'"
      ]
     },
     "execution_count": 26,
     "metadata": {},
     "output_type": "execute_result"
    }
   ],
   "source": [
    "#Swapcase - Upper to lower and lower to upper\n",
    "z.swapcase()"
   ]
  },
  {
   "cell_type": "code",
   "execution_count": 31,
   "metadata": {},
   "outputs": [
    {
     "data": {
      "text/plain": [
       "'ananab'"
      ]
     },
     "execution_count": 31,
     "metadata": {},
     "output_type": "execute_result"
    }
   ],
   "source": [
    "# Reverse\n",
    "''.join(reversed(x))"
   ]
  },
  {
   "cell_type": "code",
   "execution_count": 34,
   "metadata": {},
   "outputs": [
    {
     "data": {
      "text/plain": [
       "'This is MBA IDS     '"
      ]
     },
     "execution_count": 34,
     "metadata": {},
     "output_type": "execute_result"
    }
   ],
   "source": [
    "z = '    This is MBA IDS     '\n",
    "z.lstrip() #To remove all the spaces from left"
   ]
  },
  {
   "cell_type": "code",
   "execution_count": 35,
   "metadata": {},
   "outputs": [
    {
     "data": {
      "text/plain": [
       "'    This is MBA IDS'"
      ]
     },
     "execution_count": 35,
     "metadata": {},
     "output_type": "execute_result"
    }
   ],
   "source": [
    "z.rstrip() #To remove all the spaces from left"
   ]
  },
  {
   "cell_type": "code",
   "execution_count": 39,
   "metadata": {},
   "outputs": [
    {
     "data": {
      "text/plain": [
       "True"
      ]
     },
     "execution_count": 39,
     "metadata": {},
     "output_type": "execute_result"
    }
   ],
   "source": [
    "#Alpha numeric (alphabets or numbers)\n",
    "x = \"123\"\n",
    "x.isalnum()"
   ]
  },
  {
   "cell_type": "code",
   "execution_count": 41,
   "metadata": {},
   "outputs": [
    {
     "data": {
      "text/plain": [
       "True"
      ]
     },
     "execution_count": 41,
     "metadata": {},
     "output_type": "execute_result"
    }
   ],
   "source": [
    "x = \"ABC\"\n",
    "x.isalnum()"
   ]
  },
  {
   "cell_type": "code",
   "execution_count": 42,
   "metadata": {},
   "outputs": [
    {
     "data": {
      "text/plain": [
       "False"
      ]
     },
     "execution_count": 42,
     "metadata": {},
     "output_type": "execute_result"
    }
   ],
   "source": [
    "x = '123'\n",
    "x.isalpha()"
   ]
  },
  {
   "cell_type": "code",
   "execution_count": 43,
   "metadata": {},
   "outputs": [
    {
     "data": {
      "text/plain": [
       "True"
      ]
     },
     "execution_count": 43,
     "metadata": {},
     "output_type": "execute_result"
    }
   ],
   "source": [
    "x = 'abc'\n",
    "x.isalpha()"
   ]
  },
  {
   "cell_type": "code",
   "execution_count": 44,
   "metadata": {},
   "outputs": [
    {
     "data": {
      "text/plain": [
       "False"
      ]
     },
     "execution_count": 44,
     "metadata": {},
     "output_type": "execute_result"
    }
   ],
   "source": [
    "x = 'abc1'\n",
    "x.isalpha()"
   ]
  },
  {
   "cell_type": "code",
   "execution_count": 45,
   "metadata": {},
   "outputs": [
    {
     "data": {
      "text/plain": [
       "True"
      ]
     },
     "execution_count": 45,
     "metadata": {},
     "output_type": "execute_result"
    }
   ],
   "source": [
    "x = '123'\n",
    "x.isdigit()"
   ]
  },
  {
   "cell_type": "code",
   "execution_count": 49,
   "metadata": {},
   "outputs": [
    {
     "data": {
      "text/plain": [
       "False"
      ]
     },
     "execution_count": 49,
     "metadata": {},
     "output_type": "execute_result"
    }
   ],
   "source": [
    "x1 = 'abc'\n",
    "x1.isdigit()"
   ]
  },
  {
   "cell_type": "markdown",
   "metadata": {},
   "source": [
    "### matplotlib"
   ]
  },
  {
   "cell_type": "code",
   "execution_count": 50,
   "metadata": {},
   "outputs": [],
   "source": [
    "# %matplotlib inline (only for jupyter users)"
   ]
  },
  {
   "cell_type": "code",
   "execution_count": 12,
   "metadata": {},
   "outputs": [],
   "source": [
    "x = np.linspace(0,50,1000)\n",
    "y = x**2"
   ]
  },
  {
   "cell_type": "code",
   "execution_count": 15,
   "metadata": {},
   "outputs": [
    {
     "data": {
      "image/png": "[encoded data removed]",
      "text/plain": [
       "<Figure size 432x288 with 1 Axes>"
      ]
     },
     "metadata": {
      "needs_background": "light"
     },
     "output_type": "display_data"
    }
   ],
   "source": [
    "#Functional approach to matplotlib\n",
    "plt.plot(x,y,'r--')\n",
    "plt.xlabel('X-Axis')\n",
    "plt.ylabel('Y-Axis')\n",
    "plt.title('Function Plotting Graph')\n",
    "plt.show() #To show actual plot and hide memory location"
   ]
  },
  {
   "cell_type": "code",
   "execution_count": 17,
   "metadata": {},
   "outputs": [
    {
     "data": {
      "image/png": "[encoded data removed]",
      "text/plain": [
       "<Figure size 432x288 with 2 Axes>"
      ]
     },
     "metadata": {
      "needs_background": "light"
     },
     "output_type": "display_data"
    }
   ],
   "source": [
    "#Subplotting, like factes in R\n",
    "plt.subplot(1,2,1,title='hhh',xlabel='x') #1 Row, 2 Columns, create a canvas and divide it into 2, 3rd argument means where to plot\n",
    "plt.plot(x,y,'b-')\n",
    "plt.subplot(1,2,2)\n",
    "plt.plot(y,x,'g-')\n",
    "plt.show()"
   ]
  },
  {
   "cell_type": "code",
   "execution_count": 29,
   "metadata": {},
   "outputs": [
    {
     "data": {
      "image/png": "[encoded data removed]",
      "text/plain": [
       "<Figure size 432x288 with 4 Axes>"
      ]
     },
     "metadata": {
      "needs_background": "light"
     },
     "output_type": "display_data"
    }
   ],
   "source": [
    "plt.subplot(2,2,1)\n",
    "x = np.linspace(0,7,1000)\n",
    "plt.plot(x,x**2,'r-')\n",
    "plt.subplot(2,2,2)\n",
    "plt.plot(x,np.sin(x),'g-')\n",
    "plt.subplot(2,2,3)\n",
    "plt.plot(x,np.cos(x),'y-')\n",
    "plt.subplot(2,2,4)\n",
    "plt.plot(x,np.tan(x),'b-')\n",
    "# plt.tight_layout()\n",
    "plt.show()"
   ]
  },
  {
   "cell_type": "markdown",
   "metadata": {},
   "source": [
    "### Object Oriented Programming"
   ]
  },
  {
   "cell_type": "code",
   "execution_count": 91,
   "metadata": {},
   "outputs": [
    {
     "data": {
      "image/png": "[encoded data removed]",
      "text/plain": [
       "<Figure size 432x288 with 1 Axes>"
      ]
     },
     "metadata": {
      "needs_background": "light"
     },
     "output_type": "display_data"
    }
   ],
   "source": [
    "#Object Oriented\n",
    "fig = plt.figure()\n",
    "axes = fig.add_axes([0.1,0.1,0.8,0.8]) #0.1 is for from where you want to draw graph\n",
    "axes.plot(x,y)\n",
    "axes.set_xlabel('Xlabel')\n",
    "axes.set_ylabel('Ylabel')\n",
    "axes.set_title('Title')\n",
    "fig.show()"
   ]
  },
  {
   "cell_type": "code",
   "execution_count": 119,
   "metadata": {},
   "outputs": [
    {
     "data": {
      "image/png": "[encoded data removed]",
      "text/plain": [
       "<Figure size 432x288 with 2 Axes>"
      ]
     },
     "metadata": {
      "needs_background": "light"
     },
     "output_type": "display_data"
    }
   ],
   "source": [
    "#Multiple Graph\n",
    "fig = plt.figure()\n",
    "axes1 = fig.add_axes([0.1,0.1,0.8,0.8])\n",
    "axes2 = fig.add_axes([0.2,0.5,0.4,0.3])\n",
    "axes1.plot(x,y)\n",
    "axes2.plot(y,x,'r--')\n",
    "axes2.set_title(\"Small Plot\")\n",
    "axes1.set_title(\"Large Plot\")\n",
    "fig.show()"
   ]
  },
  {
   "cell_type": "code",
   "execution_count": 131,
   "metadata": {},
   "outputs": [
    {
     "data": {
      "image/png": "[encoded data removed]",
      "text/plain": [
       "<Figure size 432x288 with 2 Axes>"
      ]
     },
     "metadata": {
      "needs_background": "light"
     },
     "output_type": "display_data"
    }
   ],
   "source": [
    "# Making Subplots\n",
    "fig,axes=plt.subplots(nrows=1,ncols=2)\n",
    "plt.tight_layout()\n",
    "for current_ax in axes:\n",
    "    current_ax.plot(x,y)\n",
    "axes[0].plot(x,y)\n",
    "axes[1].plot(x,y)\n",
    "axes[0].set_title(\"First\")\n",
    "axes[1].set_title(\"Second\")\n",
    "fig.show()"
   ]
  },
  {
   "cell_type": "code",
   "execution_count": 133,
   "metadata": {},
   "outputs": [
    {
     "data": {
      "image/png": "[encoded data removed]",
      "text/plain": [
       "<Figure size 3000x2000 with 1 Axes>"
      ]
     },
     "metadata": {
      "needs_background": "light"
     },
     "output_type": "display_data"
    }
   ],
   "source": [
    "fig = plt.figure(figsize=(3,2),dpi=1000)\n",
    "ax = fig.add_axes([0,0,1,1])\n",
    "ax.plot(x,y)\n",
    "fig.show()"
   ]
  },
  {
   "cell_type": "code",
   "execution_count": 4,
   "metadata": {},
   "outputs": [
    {
     "name": "stderr",
     "output_type": "stream",
     "text": [
      "C:\\ProgramData\\Anaconda3\\lib\\site-packages\\matplotlib\\figure.py:445: UserWarning: Matplotlib is currently using module://ipykernel.pylab.backend_inline, which is a non-GUI backend, so cannot show the figure.\n",
      "  % get_backend())\n"
     ]
    },
    {
     "data": {
      "image/png": "[encoded data removed]",
      "text/plain": [
       "<Figure size 576x144 with 2 Axes>"
      ]
     },
     "metadata": {
      "needs_background": "light"
     },
     "output_type": "display_data"
    }
   ],
   "source": [
    "fig,axes=plt.subplots(figsize=(8,2),nrows=1,ncols=2)\n",
    "axes[0].plot(x,y)\n",
    "axes[1].plot(x,y)\n",
    "plt.tight_layout()\n",
    "fig.show()"
   ]
  },
  {
   "cell_type": "code",
   "execution_count": 138,
   "metadata": {},
   "outputs": [],
   "source": [
    "fig.savefig('mycode.png',dpi=300)"
   ]
  },
  {
   "cell_type": "code",
   "execution_count": 146,
   "metadata": {},
   "outputs": [
    {
     "data": {
      "image/png": "[encoded data removed]",
      "text/plain": [
       "<Figure size 216x144 with 1 Axes>"
      ]
     },
     "metadata": {
      "needs_background": "light"
     },
     "output_type": "display_data"
    }
   ],
   "source": [
    "fig = plt.figure(figsize=(3,2))\n",
    "ax = fig.add_axes([0,0,1,1])\n",
    "ax.plot(x,y,label='X on Y')\n",
    "ax.plot(y,x,label='Y on X')\n",
    "ax.legend(loc=0)\n",
    "fig.show()"
   ]
  },
  {
   "cell_type": "code",
   "execution_count": 156,
   "metadata": {},
   "outputs": [
    {
     "data": {
      "image/png": "[encoded data removed]",
      "text/plain": [
       "<Figure size 432x288 with 1 Axes>"
      ]
     },
     "metadata": {
      "needs_background": "light"
     },
     "output_type": "display_data"
    }
   ],
   "source": [
    "fig=plt.figure()\n",
    "ax = fig.add_axes([0.1,0.1,1,1])\n",
    "ax.plot(x,y,color='purple',linewidth=6,alpha=0.5,linestyle='-',marker='o',markersize=9,\n",
    "       markerfacecolor='yellow',markeredgewidth=4,markeredgecolor='green')\n",
    "ax.set_xlim([0,2])\n",
    "ax.set_ylim([0,2])\n",
    "fig.show()"
   ]
  },
  {
   "cell_type": "code",
   "execution_count": 24,
   "metadata": {},
   "outputs": [
    {
     "name": "stderr",
     "output_type": "stream",
     "text": [
      "C:\\ProgramData\\Anaconda3\\lib\\site-packages\\matplotlib\\figure.py:445: UserWarning: Matplotlib is currently using module://ipykernel.pylab.backend_inline, which is a non-GUI backend, so cannot show the figure.\n",
      "  % get_backend())\n"
     ]
    },
    {
     "data": {
      "image/png": "[encoded data removed]",
      "text/plain": [
       "<Figure size 432x288 with 4 Axes>"
      ]
     },
     "metadata": {
      "needs_background": "light"
     },
     "output_type": "display_data"
    }
   ],
   "source": [
    "x = np.linspace(0,50,10)\n",
    "y = x**2\n",
    "\n",
    "fig,ax = plt.subplots(nrows=2,ncols=2)\n",
    "ax[0,0].plot(x,y)\n",
    "ax[0,0].set_xlabel('x')\n",
    "plt.tight_layout()\n",
    "fig.show()\n"
   ]
  },
  {
   "cell_type": "code",
   "execution_count": 16,
   "metadata": {},
   "outputs": [
    {
     "data": {
      "text/plain": [
       "array([  0.        ,  11.11111111,  22.22222222,  33.33333333,\n",
       "        44.44444444,  55.55555556,  66.66666667,  77.77777778,\n",
       "        88.88888889, 100.        ])"
      ]
     },
     "execution_count": 16,
     "metadata": {},
     "output_type": "execute_result"
    }
   ],
   "source": [
    "y"
   ]
  },
  {
   "cell_type": "code",
   "execution_count": 18,
   "metadata": {},
   "outputs": [
    {
     "data": {
      "text/plain": [
       "array([<matplotlib.axes._subplots.AxesSubplot object at 0x000001F1ECB133C8>,\n",
       "       <matplotlib.axes._subplots.AxesSubplot object at 0x000001F1EC7AC400>],\n",
       "      dtype=object)"
      ]
     },
     "execution_count": 18,
     "metadata": {},
     "output_type": "execute_result"
    }
   ],
   "source": [
    "plt.plot()"
   ]
  },
  {
   "cell_type": "code",
   "execution_count": null,
   "metadata": {},
   "outputs": [],
   "source": []
  }
 ],
 "metadata": {
  "kernelspec": {
   "display_name": "Python 3",
   "language": "python",
   "name": "python3"
  },
  "language_info": {
   "codemirror_mode": {
    "name": "ipython",
    "version": 3
   },
   "file_extension": ".py",
   "mimetype": "text/x-python",
   "name": "python",
   "nbconvert_exporter": "python",
   "pygments_lexer": "ipython3",
   "version": "3.7.3"
  }
 },
 "nbformat": 4,
 "nbformat_minor": 2
}
