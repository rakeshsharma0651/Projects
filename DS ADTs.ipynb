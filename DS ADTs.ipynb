{
 "cells": [
  {
   "cell_type": "markdown",
   "metadata": {},
   "source": [
    "# Stack ADT"
   ]
  },
  {
   "cell_type": "raw",
   "metadata": {},
   "source": [
    "class stack:\n",
    "    def __init__(self):\n",
    "        self._data = []\n",
    "    def isEmpty(self):\n",
    "        return len(self._data) == 0\n",
    "    def peek(self):\n",
    "        return self._data[len(self._data)-1]\n",
    "    def push(self,data):\n",
    "        self._data.append(data)\n",
    "    def pop(self):\n",
    "        if self._data == []:\n",
    "            return \"Stack is Empty\"\n",
    "        else:\n",
    "            return self._data.pop()\n",
    "    def __len__(self):\n",
    "        return(len(self._data))  "
   ]
  },
  {
   "cell_type": "markdown",
   "metadata": {},
   "source": [
    "# Queue"
   ]
  },
  {
   "cell_type": "raw",
   "metadata": {},
   "source": [
    "class queue:\n",
    "    def __init__(self):\n",
    "        self.items = []\n",
    "    \n",
    "    def enqueue(self,item):\n",
    "        self.items.insert(0,item)\n",
    "    \n",
    "    def dequeue(self):\n",
    "        return self.items.pop()\n",
    "    \n",
    "    def isEmpty(self):\n",
    "        return self.items == []"
   ]
  },
  {
   "cell_type": "markdown",
   "metadata": {},
   "source": [
    "# Linked List"
   ]
  },
  {
   "cell_type": "code",
   "execution_count": 119,
   "metadata": {},
   "outputs": [],
   "source": [
    "class node:\n",
    "    def __init__(self,data):\n",
    "        self.data = data\n",
    "        self.next = None\n",
    "class linked_list:\n",
    "    def __init__(self):\n",
    "        self.head = None"
   ]
  },
  {
   "cell_type": "code",
   "execution_count": 40,
   "metadata": {},
   "outputs": [],
   "source": [
    "class queue:\n",
    "    def __init__(self):\n",
    "        self._data = []\n",
    "    def isEmpty(self):\n",
    "        return self._data == []\n",
    "    def enqueue(self,data):\n",
    "            self._data.insert(0,data)\n",
    "    def dequeue(self):\n",
    "        return self._data.pop()\n",
    "    def __len__(self):\n",
    "        return len(self._data)\n",
    "    def first(self):\n",
    "        if self._data == []:\n",
    "            return \"Queue is Empty\"\n",
    "        else:\n",
    "            return self._data[-1]   "
   ]
  },
  {
   "cell_type": "markdown",
   "metadata": {},
   "source": [
    "# Linked List ADT"
   ]
  },
  {
   "cell_type": "code",
   "execution_count": 1,
   "metadata": {},
   "outputs": [],
   "source": [
    "class node():\n",
    "    #Constructor\n",
    "    def __init__(self,data):\n",
    "        self.data = data\n",
    "        self.next = None\n",
    "    \n",
    "class linked_list():\n",
    "    #Constructor\n",
    "    def __init__(self):\n",
    "        self.head = None\n",
    "    #Method for iterating through elements\n",
    "    def see_elements(self):\n",
    "        current = self.head\n",
    "        while current:\n",
    "            print(current.data)\n",
    "            current = current.next\n",
    "    def insert_at_last(self,data):\n",
    "        if self.head == None:\n",
    "            self.head = node(data)\n",
    "        else:\n",
    "            current = self.head\n",
    "            while current.next:\n",
    "                current = current.next\n",
    "            current.next = node(data)\n",
    "    def insert_at_beg(self,data):\n",
    "        if self.head == None:\n",
    "            self.head = node(data)\n",
    "        else:\n",
    "            temp = node(data)\n",
    "            temp.next = self.head\n",
    "            self.head = temp\n",
    "    def insert_in_between(self,pos,data):\n",
    "        if self.head == None:\n",
    "            print(\"Given linked list is not long enough\")\n",
    "        else:\n",
    "            count = 1\n",
    "            current = self.head\n",
    "            while count < int(pos):\n",
    "                current = current.next\n",
    "                if current == None:\n",
    "                    print(\"Given linked list is not long enough\")\n",
    "                    break\n",
    "                count+= 1\n",
    "            temp = node(data)\n",
    "            temp.next = current.next\n",
    "            current.next = temp"
   ]
  },
  {
   "cell_type": "code",
   "execution_count": 2,
   "metadata": {},
   "outputs": [],
   "source": [
    "a = node('First Node')\n",
    "b = node('Second Node')\n",
    "c = node('Third Node')\n",
    "linked_list1 = linked_list()\n",
    "linked_list1.head = a\n",
    "a.next = b\n",
    "b.next = c"
   ]
  },
  {
   "cell_type": "code",
   "execution_count": 3,
   "metadata": {},
   "outputs": [
    {
     "name": "stdout",
     "output_type": "stream",
     "text": [
      "First Node\n",
      "Second Node\n",
      "Third Node\n"
     ]
    }
   ],
   "source": [
    "linked_list1.see_elements()"
   ]
  },
  {
   "cell_type": "code",
   "execution_count": 4,
   "metadata": {},
   "outputs": [],
   "source": [
    "linked_list1.insert_at_last(\"Fourth Node\")"
   ]
  },
  {
   "cell_type": "code",
   "execution_count": 5,
   "metadata": {},
   "outputs": [],
   "source": [
    "linked_list1.insert_at_beg(\"Checking if it inserts at beginning\")"
   ]
  },
  {
   "cell_type": "code",
   "execution_count": 6,
   "metadata": {},
   "outputs": [],
   "source": [
    "linked_list1.insert_in_between(2,\"Trying to insert\")"
   ]
  },
  {
   "cell_type": "code",
   "execution_count": 7,
   "metadata": {},
   "outputs": [
    {
     "name": "stdout",
     "output_type": "stream",
     "text": [
      "Checking if it inserts at beginning\n",
      "First Node\n",
      "Trying to insert\n",
      "Second Node\n",
      "Third Node\n",
      "Fourth Node\n"
     ]
    }
   ],
   "source": [
    "linked_list1.see_elements()"
   ]
  },
  {
   "cell_type": "code",
   "execution_count": 8,
   "metadata": {},
   "outputs": [],
   "source": [
    "a1 = linked_list1.head\n",
    "b1 = a1.next\n",
    "c1 = b1.next"
   ]
  },
  {
   "cell_type": "code",
   "execution_count": 13,
   "metadata": {},
   "outputs": [],
   "source": [
    "class node():\n",
    "    def __init__(self,data):\n",
    "        self.data = data\n",
    "        self.left = None\n",
    "        self.right = None"
   ]
  },
  {
   "cell_type": "code",
   "execution_count": 66,
   "metadata": {},
   "outputs": [],
   "source": [
    "class tree():\n",
    "    def __init__(self):\n",
    "        pass\n",
    "    def createnode(self,data):\n",
    "        return node(data)\n",
    "    def insert(self,node,data):\n",
    "        if node is None:\n",
    "            return self.createnode(data)\n",
    "        if data < node.data:\n",
    "            node.left = self.insert(node.left,data)\n",
    "        elif data > node.data:\n",
    "            node.right = self.insert(node.right,data)\n",
    "        return node\n",
    "    def search(self,node,data):\n",
    "        if node is None or node.data == data:\n",
    "            return node\n",
    "        if node.data < data:\n",
    "            return self.search(node.right,data)\n",
    "        else:\n",
    "            return self.search(node.left,data)\n",
    "    def printtree(self,node):\n",
    "        if node is not None:\n",
    "            self.printtree(node.left)\n",
    "            print(node.data)\n",
    "            self.printtree(node.right)"
   ]
  },
  {
   "cell_type": "code",
   "execution_count": 67,
   "metadata": {},
   "outputs": [],
   "source": [
    "a = tree()"
   ]
  },
  {
   "cell_type": "code",
   "execution_count": 68,
   "metadata": {},
   "outputs": [],
   "source": [
    "b = a.createnode(19)"
   ]
  },
  {
   "cell_type": "code",
   "execution_count": 69,
   "metadata": {},
   "outputs": [
    {
     "data": {
      "text/plain": [
       "<__main__.node at 0x1ef156e0f60>"
      ]
     },
     "execution_count": 69,
     "metadata": {},
     "output_type": "execute_result"
    }
   ],
   "source": [
    "a.insert(b,17)"
   ]
  },
  {
   "cell_type": "code",
   "execution_count": 70,
   "metadata": {},
   "outputs": [
    {
     "data": {
      "text/plain": [
       "<__main__.node at 0x1ef156e0f60>"
      ]
     },
     "execution_count": 70,
     "metadata": {},
     "output_type": "execute_result"
    }
   ],
   "source": [
    "a.insert(b,20)"
   ]
  },
  {
   "cell_type": "code",
   "execution_count": 71,
   "metadata": {},
   "outputs": [
    {
     "name": "stdout",
     "output_type": "stream",
     "text": [
      "17\n",
      "19\n",
      "20\n"
     ]
    }
   ],
   "source": [
    "a.printtree(b)"
   ]
  },
  {
   "cell_type": "code",
   "execution_count": 72,
   "metadata": {},
   "outputs": [
    {
     "ename": "NameError",
     "evalue": "name 'x' is not defined",
     "output_type": "error",
     "traceback": [
      "\u001b[1;31m---------------------------------------------------------------------------\u001b[0m",
      "\u001b[1;31mNameError\u001b[0m                                 Traceback (most recent call last)",
      "\u001b[1;32m<ipython-input-72-6fcf9dfbd479>\u001b[0m in \u001b[0;36m<module>\u001b[1;34m\u001b[0m\n\u001b[1;32m----> 1\u001b[1;33m \u001b[0mx\u001b[0m\u001b[1;33m\u001b[0m\u001b[1;33m\u001b[0m\u001b[0m\n\u001b[0m",
      "\u001b[1;31mNameError\u001b[0m: name 'x' is not defined"
     ]
    }
   ],
   "source": [
    "x"
   ]
  },
  {
   "cell_type": "code",
   "execution_count": 73,
   "metadata": {},
   "outputs": [
    {
     "ename": "SyntaxError",
     "evalue": "invalid syntax (<ipython-input-73-8981cab9e6ef>, line 1)",
     "output_type": "error",
     "traceback": [
      "\u001b[1;36m  File \u001b[1;32m\"<ipython-input-73-8981cab9e6ef>\"\u001b[1;36m, line \u001b[1;32m1\u001b[0m\n\u001b[1;33m    class(x)\u001b[0m\n\u001b[1;37m         ^\u001b[0m\n\u001b[1;31mSyntaxError\u001b[0m\u001b[1;31m:\u001b[0m invalid syntax\n"
     ]
    }
   ],
   "source": []
  },
  {
   "cell_type": "code",
   "execution_count": null,
   "metadata": {},
   "outputs": [],
   "source": []
  }
 ],
 "metadata": {
  "kernelspec": {
   "display_name": "Python 3",
   "language": "python",
   "name": "python3"
  },
  "language_info": {
   "codemirror_mode": {
    "name": "ipython",
    "version": 3
   },
   "file_extension": ".py",
   "mimetype": "text/x-python",
   "name": "python",
   "nbconvert_exporter": "python",
   "pygments_lexer": "ipython3",
   "version": "3.7.3"
  }
 },
 "nbformat": 4,
 "nbformat_minor": 2
}
